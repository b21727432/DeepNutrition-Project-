{
  "nbformat": 4,
  "nbformat_minor": 0,
  "metadata": {
    "colab": {
      "name": "GoogleNet.ipynb",
      "provenance": [],
      "collapsed_sections": []
    },
    "kernelspec": {
      "name": "python3",
      "display_name": "Python 3"
    },
    "accelerator": "GPU"
  },
  "cells": [
    {
      "cell_type": "markdown",
      "metadata": {
        "id": "fvM7cKH0VWVB",
        "colab_type": "text"
      },
      "source": [
        "Implementing all the libraries we will need:"
      ]
    },
    {
      "cell_type": "code",
      "metadata": {
        "id": "SNf5ptIlODXF",
        "colab_type": "code",
        "outputId": "9e6f28f5-ac36-451f-b9cb-37e388da44aa",
        "colab": {
          "base_uri": "https://localhost:8080/",
          "height": 118
        }
      },
      "source": [
        "import sys\n",
        "import sklearn as sk\n",
        "import tensorflow as tf\n",
        "import pandas as pd\n",
        "import tensorflow.keras.backend as K\n",
        "from tensorflow.keras import regularizers\n",
        "from tensorflow.keras.applications.inception_v3 import InceptionV3\n",
        "from tensorflow.keras.models import Sequential, Model\n",
        "from tensorflow.keras.layers import Dense, Dropout, Activation, Flatten\n",
        "from tensorflow.keras.layers import Convolution2D, MaxPooling2D, ZeroPadding2D, GlobalAveragePooling2D, AveragePooling2D\n",
        "from tensorflow.keras.preprocessing.image import ImageDataGenerator\n",
        "from tensorflow.keras.callbacks import ModelCheckpoint, CSVLogger\n",
        "from tensorflow.keras.optimizers import SGD\n",
        "from tensorflow.keras.regularizers import l2\n",
        "from tensorflow import keras\n",
        "import numpy as np\n",
        "import os\n",
        "from shutil import copy, copytree\n",
        "import matplotlib.pyplot as plt\n",
        "\n",
        "\n",
        "# Is everything normal? Let's check.\n",
        "print(sys.version)\n",
        "print(keras.__version__)\n",
        "print(pd.__version__)\n",
        "print(tf.__version__)\n",
        "print(\"Available\" if tf.test.is_gpu_available() else \"Not Available\")"
      ],
      "execution_count": 0,
      "outputs": [
        {
          "output_type": "stream",
          "text": [
            "3.6.9 (default, Nov  7 2019, 10:44:02) \n",
            "[GCC 8.3.0]\n",
            "2.2.4-tf\n",
            "0.25.3\n",
            "1.15.0\n",
            "Available\n"
          ],
          "name": "stdout"
        }
      ]
    },
    {
      "cell_type": "markdown",
      "metadata": {
        "id": "y7daT45uTyBP",
        "colab_type": "text"
      },
      "source": [
        "**Download and Extract the dataset**"
      ]
    },
    {
      "cell_type": "code",
      "metadata": {
        "id": "PmJ_oYy0Pb6T",
        "colab_type": "code",
        "outputId": "5c9740f8-1879-4c99-e01d-7430ec46e5ee",
        "colab": {
          "base_uri": "https://localhost:8080/",
          "height": 269
        }
      },
      "source": [
        "!wget http://data.vision.ee.ethz.ch/cvl/food-101.tar.gz\n",
        "!tar xzf food-101.tar.gz"
      ],
      "execution_count": 0,
      "outputs": [
        {
          "output_type": "stream",
          "text": [
            "--2020-01-15 12:19:25--  http://data.vision.ee.ethz.ch/cvl/food-101.tar.gz\n",
            "Resolving data.vision.ee.ethz.ch (data.vision.ee.ethz.ch)... 129.132.52.162\n",
            "Connecting to data.vision.ee.ethz.ch (data.vision.ee.ethz.ch)|129.132.52.162|:80... connected.\n",
            "HTTP request sent, awaiting response... 302 Found\n",
            "Location: https://data.vision.ee.ethz.ch/cvl/food-101.tar.gz [following]\n",
            "--2020-01-15 12:19:26--  https://data.vision.ee.ethz.ch/cvl/food-101.tar.gz\n",
            "Connecting to data.vision.ee.ethz.ch (data.vision.ee.ethz.ch)|129.132.52.162|:443... connected.\n",
            "HTTP request sent, awaiting response... 200 OK\n",
            "Length: 4996278331 (4.7G) [application/x-gzip]\n",
            "Saving to: ‘food-101.tar.gz’\n",
            "\n",
            "food-101.tar.gz     100%[===================>]   4.65G  10.9MB/s    in 8m 20s  \n",
            "\n",
            "2020-01-15 12:27:47 (9.53 MB/s) - ‘food-101.tar.gz’ saved [4996278331/4996278331]\n",
            "\n"
          ],
          "name": "stdout"
        }
      ]
    },
    {
      "cell_type": "code",
      "metadata": {
        "id": "y15wCD3FP-QD",
        "colab_type": "code",
        "outputId": "57e45ca2-c72a-4136-8f66-9860e97fbdbb",
        "colab": {
          "base_uri": "https://localhost:8080/",
          "height": 34
        }
      },
      "source": [
        "!ls"
      ],
      "execution_count": 0,
      "outputs": [
        {
          "output_type": "stream",
          "text": [
            "food-101  food-101.tar.gz  sample_data\n"
          ],
          "name": "stdout"
        }
      ]
    },
    {
      "cell_type": "code",
      "metadata": {
        "id": "wrfXktcbQAMp",
        "colab_type": "code",
        "outputId": "fb61e2e4-c6d1-4f14-857d-c1baee429d5a",
        "colab": {
          "base_uri": "https://localhost:8080/",
          "height": 34
        }
      },
      "source": [
        "!ls food-101"
      ],
      "execution_count": 0,
      "outputs": [
        {
          "output_type": "stream",
          "text": [
            "images\tlicense_agreement.txt  meta  README.txt\n"
          ],
          "name": "stdout"
        }
      ]
    },
    {
      "cell_type": "code",
      "metadata": {
        "id": "ZyJmu2_OQB0g",
        "colab_type": "code",
        "outputId": "5dbd9bae-64f4-43e7-d951-2d3250ebc689",
        "colab": {
          "base_uri": "https://localhost:8080/",
          "height": 588
        }
      },
      "source": [
        "!ls food-101/images"
      ],
      "execution_count": 0,
      "outputs": [
        {
          "output_type": "stream",
          "text": [
            "apple_pie\t    eggs_benedict\t     onion_rings\n",
            "baby_back_ribs\t    escargots\t\t     oysters\n",
            "baklava\t\t    falafel\t\t     pad_thai\n",
            "beef_carpaccio\t    filet_mignon\t     paella\n",
            "beef_tartare\t    fish_and_chips\t     pancakes\n",
            "beet_salad\t    foie_gras\t\t     panna_cotta\n",
            "beignets\t    french_fries\t     peking_duck\n",
            "bibimbap\t    french_onion_soup\t     pho\n",
            "bread_pudding\t    french_toast\t     pizza\n",
            "breakfast_burrito   fried_calamari\t     pork_chop\n",
            "bruschetta\t    fried_rice\t\t     poutine\n",
            "caesar_salad\t    frozen_yogurt\t     prime_rib\n",
            "cannoli\t\t    garlic_bread\t     pulled_pork_sandwich\n",
            "caprese_salad\t    gnocchi\t\t     ramen\n",
            "carrot_cake\t    greek_salad\t\t     ravioli\n",
            "ceviche\t\t    grilled_cheese_sandwich  red_velvet_cake\n",
            "cheesecake\t    grilled_salmon\t     risotto\n",
            "cheese_plate\t    guacamole\t\t     samosa\n",
            "chicken_curry\t    gyoza\t\t     sashimi\n",
            "chicken_quesadilla  hamburger\t\t     scallops\n",
            "chicken_wings\t    hot_and_sour_soup\t     seaweed_salad\n",
            "chocolate_cake\t    hot_dog\t\t     shrimp_and_grits\n",
            "chocolate_mousse    huevos_rancheros\t     spaghetti_bolognese\n",
            "churros\t\t    hummus\t\t     spaghetti_carbonara\n",
            "clam_chowder\t    ice_cream\t\t     spring_rolls\n",
            "club_sandwich\t    lasagna\t\t     steak\n",
            "crab_cakes\t    lobster_bisque\t     strawberry_shortcake\n",
            "creme_brulee\t    lobster_roll_sandwich    sushi\n",
            "croque_madame\t    macaroni_and_cheese      tacos\n",
            "cup_cakes\t    macarons\t\t     takoyaki\n",
            "deviled_eggs\t    miso_soup\t\t     tiramisu\n",
            "donuts\t\t    mussels\t\t     tuna_tartare\n",
            "dumplings\t    nachos\t\t     waffles\n",
            "edamame\t\t    omelette\n"
          ],
          "name": "stdout"
        }
      ]
    },
    {
      "cell_type": "markdown",
      "metadata": {
        "id": "KIiJBKSyT7Ad",
        "colab_type": "text"
      },
      "source": [
        "**Splitting the complete dataset into train and test.**"
      ]
    },
    {
      "cell_type": "markdown",
      "metadata": {
        "id": "vNWOWVA8RHJk",
        "colab_type": "text"
      },
      "source": [
        "Since it's hard to work on a dataset big like this, we will find the best parameters in small part of the dataset and then with this parameters we will work on the big dataset which has 101 class and 101.000 images.\n",
        "Since the test cases which is under created before us, we decided to use this cases which are given in meta folder under food-101 folder like that:"
      ]
    },
    {
      "cell_type": "code",
      "metadata": {
        "id": "jIazDn5aQTxO",
        "colab_type": "code",
        "outputId": "f6839ac0-f0bd-4afc-a71c-baf503b02ec5",
        "colab": {
          "base_uri": "https://localhost:8080/",
          "height": 34
        }
      },
      "source": [
        "!ls food-101/meta"
      ],
      "execution_count": 0,
      "outputs": [
        {
          "output_type": "stream",
          "text": [
            "classes.txt  labels.txt  test.json  test.txt  train.json  train.txt\n"
          ],
          "name": "stdout"
        }
      ]
    },
    {
      "cell_type": "markdown",
      "metadata": {
        "id": "u_5fR393TaF_",
        "colab_type": "text"
      },
      "source": [
        "We will use this train.txt and test.txt file. There are class names in them. It means there is prepared train test condition.\n",
        "The goal with the prepared test-train condition is that allowing lots of people around the world race together accurately. "
      ]
    },
    {
      "cell_type": "code",
      "metadata": {
        "id": "51yLYbZJVFR6",
        "colab_type": "code",
        "colab": {}
      },
      "source": [
        "train101_src = \"food-101/train101\"\n",
        "test101_src = \"food-101/test101\""
      ],
      "execution_count": 0,
      "outputs": []
    },
    {
      "cell_type": "code",
      "metadata": {
        "id": "3XmJoZliTs0B",
        "colab_type": "code",
        "outputId": "f75e5037-d02b-4b91-9b4c-8a3422939a3b",
        "colab": {
          "base_uri": "https://localhost:8080/",
          "height": 34
        }
      },
      "source": [
        "with open('food-101/meta/train.txt', 'r') as file:\n",
        "  picturePaths = [read.strip() for read in file.readlines()]\n",
        "  for path in picturePaths:\n",
        "    path = path.split('/')\n",
        "    if not os.path.exists(train101_src+'/' + path[0]):\n",
        "      os.makedirs(os.path.join(train101_src+'/'+path[0]))\n",
        "    copy('food-101/images/'+path[0] + \"/\" +path[1]+'.jpg', train101_src +'/'+path[0]+\"/\"+path[1]+'.jpg')\n",
        "print(\"101 class train cases created.\")"
      ],
      "execution_count": 0,
      "outputs": [
        {
          "output_type": "stream",
          "text": [
            "101 class train cases created.\n"
          ],
          "name": "stdout"
        }
      ]
    },
    {
      "cell_type": "code",
      "metadata": {
        "id": "duKMQ74kZbF7",
        "colab_type": "code",
        "outputId": "d1e8def5-53be-4b6d-e25d-28c837ac37b0",
        "colab": {
          "base_uri": "https://localhost:8080/",
          "height": 34
        }
      },
      "source": [
        "with open('food-101/meta/test.txt', 'r') as txt:\n",
        "  picturePaths = [read.strip() for read in txt.readlines()]\n",
        "  for path in picturePaths:\n",
        "    path = path.split('/')\n",
        "    if not os.path.exists(test101_src +'/' + path[0]):\n",
        "      os.makedirs(os.path.join(test101_src +'/'+path[0]))\n",
        "    copy('food-101/images/'+path[0] + \"/\" +path[1]+'.jpg', test101_src +'/'+path[0]+\"/\"+path[1]+'.jpg')\n",
        "print(\"101 class test cases created.\")"
      ],
      "execution_count": 0,
      "outputs": [
        {
          "output_type": "stream",
          "text": [
            "101 class test cases created.\n"
          ],
          "name": "stdout"
        }
      ]
    },
    {
      "cell_type": "markdown",
      "metadata": {
        "id": "r_rPLD0LVDSF",
        "colab_type": "text"
      },
      "source": [
        "Creating 11 class dataset to find the best parameters of GoogleNet for our purpose"
      ]
    },
    {
      "cell_type": "markdown",
      "metadata": {
        "id": "rF2qT-cdVDQc",
        "colab_type": "text"
      },
      "source": [
        ""
      ]
    },
    {
      "cell_type": "code",
      "metadata": {
        "colab_type": "code",
        "id": "rsl-Z7jMUf_E",
        "colab": {}
      },
      "source": [
        "train11_src = \"food-101/train11\"\n",
        "test11_src = \"food-101/test11\"\n",
        "\n",
        "os.makedirs(train11_src)\n",
        "os.makedirs(test11_src)\n",
        "\n",
        "smallDataset = ['baklava', 'falafel', 'hamburger', 'hot_dog', 'ice_cream', 'omelette', 'pizza', 'ramen', 'steak', 'sushi', 'waffles']"
      ],
      "execution_count": 0,
      "outputs": []
    },
    {
      "cell_type": "code",
      "metadata": {
        "id": "lNmPx_hGuFJ9",
        "colab_type": "code",
        "outputId": "d552003c-7e74-44b7-89a9-9f8f922e6664",
        "colab": {
          "base_uri": "https://localhost:8080/",
          "height": 34
        }
      },
      "source": [
        "for className in smallDataset:\n",
        "    copytree(train101_src+'/'+className,train11_src+'/'+className)\n",
        "    copytree(test101_src+'/'+className,test11_src+'/'+className)\n",
        "print(\"11 class train-test cases created.\")"
      ],
      "execution_count": 0,
      "outputs": [
        {
          "output_type": "stream",
          "text": [
            "11 class train-test cases created.\n"
          ],
          "name": "stdout"
        }
      ]
    },
    {
      "cell_type": "markdown",
      "metadata": {
        "id": "u8VVy9R0-r3C",
        "colab_type": "text"
      },
      "source": [
        "**Next Step: Building GoogleNet Convulational Neural Network Model**"
      ]
    },
    {
      "cell_type": "code",
      "metadata": {
        "id": "tepAOwk-Wd-k",
        "colab_type": "code",
        "colab": {}
      },
      "source": [
        "learning_rate = 0\n",
        "batch_size = 0\n",
        "epoch = 0\n",
        "dropout = 0\n",
        "regularizers = 0.005\n",
        "class_size = 0\n",
        "another_dense = none\n",
        "activation = \"\"\n",
        "cost_function = \"\"\n",
        "train_src = \"\"\n",
        "include_flatten = none\n",
        "validation_src =\"\"\n",
        "num_of_train = 0\n",
        "num_of_test = 0\n",
        "learning_rate=0.0005,momentum=0.9,\n",
        "inception = InceptionV3(weights='imagenet', include_top=False)"
      ],
      "execution_count": 0,
      "outputs": []
    },
    {
      "cell_type": "markdown",
      "metadata": {
        "id": "HJOoYR8euEiz",
        "colab_type": "text"
      },
      "source": [
        "Function to graph the outputs:"
      ]
    },
    {
      "cell_type": "code",
      "metadata": {
        "id": "iWt0aOC2uD-6",
        "colab_type": "code",
        "colab": {}
      },
      "source": [
        "def plot_everything(history,title,is_Activation):\n",
        "  if is_Activation:\n",
        "    plt.title(title)\n",
        "    plt.plot(history.history['acc'])\n",
        "    plt.plot(history.history['val_acc'])\n",
        "    plt.ylabel('accuracy')\n",
        "    plt.xlabel('epoch')\n",
        "    plt.legend(['train_accuracy', 'validation_accuracy'], loc='best')\n",
        "    plt.show()\n",
        "  else:\n",
        "    plt.title(title)\n",
        "    plt.plot(history.history['loss'])\n",
        "    plt.plot(history.history['val_loss'])\n",
        "    plt.ylabel('loss')\n",
        "    plt.xlabel('epoch')\n",
        "    plt.legend(['train_loss','validation_loss'], loc='best')\n",
        "    plt.show()"
      ],
      "execution_count": 0,
      "outputs": []
    },
    {
      "cell_type": "markdown",
      "metadata": {
        "id": "vMWRNTIA4zl8",
        "colab_type": "text"
      },
      "source": [
        "# **The model:**"
      ]
    },
    {
      "cell_type": "code",
      "metadata": {
        "id": "9d0WBKvYTgEN",
        "colab_type": "code",
        "colab": {}
      },
      "source": [
        "def quick_train_test_graph(title='graph',batch_size=16, epoch=20, dropout=0.5, \n",
        "loss_func='categorical_crossentropy', class_size=11, learning_rate=0.0005, \n",
        "momentum=0.9, another_dense=False, include_flatten=False, img_width=299, \n",
        "img_height=299, inception=InceptionV3(weights='imagenet', include_top=False), \n",
        "activation_func='tanh'):\n",
        "\n",
        "  if class_size == 101:\n",
        "    train_src = train101_src\n",
        "    test_src = test101_src\n",
        "    num_of_train = 75750\n",
        "    num_of_test = 25250\n",
        "  if class_size == 11:\n",
        "    train_src = train11_src\n",
        "    test_src = test11_src\n",
        "    num_of_train = 8250\n",
        "    num_of_test = 7250\n",
        "\n",
        "  train_data = ImageDataGenerator(\n",
        "    rescale=1. / 255,\n",
        "    shear_range=0.2,\n",
        "    zoom_range=0.2,\n",
        "    horizontal_flip=True).flow_from_directory(\n",
        "      train_src,\n",
        "      target_size=(img_height, img_width),\n",
        "      batch_size=batch_size,\n",
        "      class_mode='categorical')\n",
        "\n",
        "  validation_data = ImageDataGenerator(rescale=1. / 255).flow_from_directory(\n",
        "    test_src,\n",
        "    target_size=(img_height, img_width),\n",
        "    batch_size=batch_size,\n",
        "    class_mode='categorical')\n",
        "  \n",
        "  \n",
        "  inceptionv3 = InceptionV3(weights='imagenet', include_top=False)\n",
        "  x = inceptionv3.output\n",
        "  x = GlobalAveragePooling2D()(x)\n",
        "\n",
        "  if(include_flatten):\n",
        "    x = Flatten(name='flatten')(x)\n",
        "\n",
        "  x = Dense(128,activation=activation_func)(x)\n",
        "\n",
        "  if(another_dense):\n",
        "    x = Dense(101,activation=activation_func)(x)\n",
        "    \n",
        "  x = Dropout(dropout)(x)\n",
        "  predictions = Dense(class_size ,kernel_regularizer=regularizers.l2(0.005), activation='softmax')(x)\n",
        "  \n",
        "  # Creating the model\n",
        "  model = Model(inputs=inceptionv3.input, outputs=predictions)\n",
        "  # Compiling the model\n",
        "  model.compile(optimizer=SGD(lr=learning_rate, momentum=momentum),  loss=loss_func, metrics=['accuracy'])\n",
        "  # Train phase\n",
        "  history = model.fit_generator(train_data,\n",
        "                      steps_per_epoch = num_of_train // batch_size,\n",
        "                      validation_data = validation_data,\n",
        "                      validation_steps= num_of_test // batch_size,\n",
        "                      epochs=epoch,\n",
        "                      verbose=1,\n",
        "                      callbacks=[CSVLogger('history.log'), ModelCheckpoint(filepath='model.hdf5', verbose=1, save_best_only=True)])\n",
        "  # Saving the model\n",
        "  model.save('model.hdf5')\n",
        "  print(history.history)\n",
        "  plot_it(history,title,True)\n",
        "  plot_it(history,title,False)"
      ],
      "execution_count": 0,
      "outputs": []
    },
    {
      "cell_type": "markdown",
      "metadata": {
        "id": "O5kVV_EW6fb4",
        "colab_type": "text"
      },
      "source": [
        "# **Test Phase**"
      ]
    },
    {
      "cell_type": "markdown",
      "metadata": {
        "id": "gnhn4rRSDurp",
        "colab_type": "text"
      },
      "source": [
        "**Testing Learning Rate, Momentum and Epochs**"
      ]
    },
    {
      "cell_type": "code",
      "metadata": {
        "colab_type": "code",
        "id": "RcXEbRLnD1gw",
        "colab": {}
      },
      "source": [
        "quick_train_test_graph(title='0.0005lr, 10epochs, 0.9momentum',learning_rate=0.0005, epoch=10, momentum=0.9)"
      ],
      "execution_count": 0,
      "outputs": []
    },
    {
      "cell_type": "code",
      "metadata": {
        "colab_type": "code",
        "id": "NRcVeXHSD1g0",
        "colab": {}
      },
      "source": [
        "quick_train_test_graph(title='0.0005lr, 20epochs, 0.9momentum',learning_rate=0.0005, epoch=20, momentum=0.9)"
      ],
      "execution_count": 0,
      "outputs": []
    },
    {
      "cell_type": "code",
      "metadata": {
        "colab_type": "code",
        "id": "0WQc_2VTD1g2",
        "colab": {}
      },
      "source": [
        "quick_train_test_graph(title='0.0005lr, 20epochs, 0momentum',learning_rate=0.0005, epoch=20, momentum=0)"
      ],
      "execution_count": 0,
      "outputs": []
    },
    {
      "cell_type": "code",
      "metadata": {
        "id": "UZRRFSsyib8e",
        "colab_type": "code",
        "colab": {}
      },
      "source": [
        "quick_train_test_graph(title='0.0001lr, 10epochs, 0.9momentum',learning_rate=0.0001, epoch=10, momentum=0.9)"
      ],
      "execution_count": 0,
      "outputs": []
    },
    {
      "cell_type": "code",
      "metadata": {
        "id": "XURhpcLSARaP",
        "colab_type": "code",
        "colab": {}
      },
      "source": [
        "quick_train_test_graph(title='0.0001lr, 20epochs, 0.9momentum',learning_rate=0.0001, epoch=20, momentum=0.9)"
      ],
      "execution_count": 0,
      "outputs": []
    },
    {
      "cell_type": "code",
      "metadata": {
        "colab_type": "code",
        "id": "zaa9pfdrB6lY",
        "colab": {}
      },
      "source": [
        "quick_train_test_graph(title='0.0001lr, 20epochs, 0momentum',learning_rate=0.0001, epoch=20, momentum=0)"
      ],
      "execution_count": 0,
      "outputs": []
    },
    {
      "cell_type": "code",
      "metadata": {
        "colab_type": "code",
        "id": "2JpdibqOCnlO",
        "colab": {}
      },
      "source": [
        "quick_train_test_graph(title='0.001lr, 10epochs, 0.9momentum',learning_rate=0.001, epoch=10, momentum=0.9)"
      ],
      "execution_count": 0,
      "outputs": []
    },
    {
      "cell_type": "code",
      "metadata": {
        "colab_type": "code",
        "id": "qRwkY4LHCnlT",
        "colab": {}
      },
      "source": [
        "quick_train_test_graph(title='0.001lr, 20epochs, 0.9momentum',learning_rate=0.001, epoch=20, momentum=0)"
      ],
      "execution_count": 0,
      "outputs": []
    },
    {
      "cell_type": "code",
      "metadata": {
        "colab_type": "code",
        "id": "63ACQ-7BCnlV",
        "colab": {}
      },
      "source": [
        "quick_train_test_graph(title='0.001lr, 20epochs, 0momentum',learning_rate=0.001, epoch=20, momentum=0.0)"
      ],
      "execution_count": 0,
      "outputs": []
    },
    {
      "cell_type": "code",
      "metadata": {
        "colab_type": "code",
        "id": "vFhYFwK9C3YP",
        "colab": {}
      },
      "source": [
        "quick_train_test_graph(title='0.0005lr, 10epochs, 0.9momentum',learning_rate=0.0005, epoch=10, momentum=0.9)"
      ],
      "execution_count": 0,
      "outputs": []
    },
    {
      "cell_type": "code",
      "metadata": {
        "colab_type": "code",
        "id": "Xd-HkwLtC3YT",
        "colab": {}
      },
      "source": [
        "quick_train_test_graph(title='0.0005lr, 20epochs, 0.9momentum',learning_rate=0.0005, epoch=20, momentum=0.9)"
      ],
      "execution_count": 0,
      "outputs": []
    },
    {
      "cell_type": "code",
      "metadata": {
        "colab_type": "code",
        "id": "6vNFJFZdC3YU",
        "colab": {}
      },
      "source": [
        "quick_train_test_graph(title='0.0005lr, 20epochs, 0momentum',learning_rate=0.0005, epoch=20, momentum=0)"
      ],
      "execution_count": 0,
      "outputs": []
    },
    {
      "cell_type": "code",
      "metadata": {
        "colab_type": "code",
        "id": "UXxPbv4_DTCr",
        "colab": {}
      },
      "source": [
        "quick_train_test_graph(title='0.005lr, 10epochs, 0.9momentum',learning_rate=0.005, epoch=10, momentum=0.9)"
      ],
      "execution_count": 0,
      "outputs": []
    },
    {
      "cell_type": "code",
      "metadata": {
        "colab_type": "code",
        "id": "v19d4hfJDTCv",
        "colab": {}
      },
      "source": [
        "quick_train_test_graph(title='0.005lr, 20epochs, 0.9momentum',learning_rate=0.005, epoch=20, momentum=0.9)"
      ],
      "execution_count": 0,
      "outputs": []
    },
    {
      "cell_type": "markdown",
      "metadata": {
        "id": "y9VnOUrrD3Qk",
        "colab_type": "text"
      },
      "source": [
        "**Testing speed of batch sizes**\n",
        "\n",
        "We also know that google colab cannot work with batch sizes higher than 16."
      ]
    },
    {
      "cell_type": "code",
      "metadata": {
        "id": "epJOL0n4ETTo",
        "colab_type": "code",
        "colab": {}
      },
      "source": [
        "quick_train_test_graph(title='batch_size:4', batch_size=4)"
      ],
      "execution_count": 0,
      "outputs": []
    },
    {
      "cell_type": "code",
      "metadata": {
        "id": "1zDo1ozsGS-F",
        "colab_type": "code",
        "colab": {}
      },
      "source": [
        "quick_train_test_graph(title='batch_size:8',batch_size=8)"
      ],
      "execution_count": 0,
      "outputs": []
    },
    {
      "cell_type": "code",
      "metadata": {
        "id": "VnU4VhECGVvk",
        "colab_type": "code",
        "colab": {}
      },
      "source": [
        "# quick_train_test_graph(title='batch_size:16',batch_size=16)\n",
        "# This case has ran in the case above with title '0.0005lr, 20epochs, 0.9momentum'"
      ],
      "execution_count": 0,
      "outputs": []
    },
    {
      "cell_type": "markdown",
      "metadata": {
        "id": "CQWIx0VwG4sN",
        "colab_type": "text"
      },
      "source": [
        "**Testing Flatten**"
      ]
    },
    {
      "cell_type": "code",
      "metadata": {
        "id": "Gu9Z7m-gG0zQ",
        "colab_type": "code",
        "colab": {}
      },
      "source": [
        "quick_train_test_graph(title='Flatten is included',include_flatten=True)"
      ],
      "execution_count": 0,
      "outputs": []
    },
    {
      "cell_type": "code",
      "metadata": {
        "id": "T1UhXLx0HFd9",
        "colab_type": "code",
        "colab": {}
      },
      "source": [
        "# quick_train_test_graph(title='Flatten is not included',include_flatten=True)\n",
        "# This case has ran in the case above with title '0.0005lr, 20epochs, 0.9momentum'"
      ],
      "execution_count": 0,
      "outputs": []
    },
    {
      "cell_type": "markdown",
      "metadata": {
        "id": "48ruqJV1HcX7",
        "colab_type": "text"
      },
      "source": [
        "**Testing Dropout**"
      ]
    },
    {
      "cell_type": "code",
      "metadata": {
        "id": "eIk9rY4VHicM",
        "colab_type": "code",
        "colab": {}
      },
      "source": [
        "quick_train_test_graph(title='dropout:0.5',dropout=0.5)"
      ],
      "execution_count": 0,
      "outputs": []
    },
    {
      "cell_type": "code",
      "metadata": {
        "id": "jESgODT_HtXh",
        "colab_type": "code",
        "colab": {}
      },
      "source": [
        "quick_train_test_graph(title='dropout:0.005',dropout=0.005)"
      ],
      "execution_count": 0,
      "outputs": []
    },
    {
      "cell_type": "code",
      "metadata": {
        "id": "pZe8IY5cHvAF",
        "colab_type": "code",
        "colab": {}
      },
      "source": [
        "quick_train_test_graph(title='dropout:0.8',dropout=0.8)"
      ],
      "execution_count": 0,
      "outputs": []
    },
    {
      "cell_type": "code",
      "metadata": {
        "id": "Efm90jODHyFt",
        "colab_type": "code",
        "colab": {}
      },
      "source": [
        "# quick_train_test_graph(title='dropout:0',dropout=0)\n",
        "# This case has ran in the case above with title '0.0005lr, 20epochs, 0.9momentum'"
      ],
      "execution_count": 0,
      "outputs": []
    },
    {
      "cell_type": "markdown",
      "metadata": {
        "id": "Lb3QU0_rKQ39",
        "colab_type": "text"
      },
      "source": [
        "**Testing Loss Functions**"
      ]
    },
    {
      "cell_type": "code",
      "metadata": {
        "id": "BLhTftfnKUG_",
        "colab_type": "code",
        "colab": {}
      },
      "source": [
        "# quick_train_test_graph(title='categorical_crossentropy',activation_func='categorical_crossentropy')\n",
        "# This case has ran in the case above with title '0.0005lr, 20epochs, 0.9momentum'"
      ],
      "execution_count": 0,
      "outputs": []
    },
    {
      "cell_type": "code",
      "metadata": {
        "id": "qdKUFecaK9Mm",
        "colab_type": "code",
        "colab": {}
      },
      "source": [
        "quick_train_test_graph(title='categorical_hinge',activation_func='categorical_hinge')"
      ],
      "execution_count": 0,
      "outputs": []
    },
    {
      "cell_type": "markdown",
      "metadata": {
        "id": "kmz_UZtkKmDm",
        "colab_type": "text"
      },
      "source": [
        "**Testing Activation Functions**"
      ]
    },
    {
      "cell_type": "code",
      "metadata": {
        "id": "ceJNLdxbKWBC",
        "colab_type": "code",
        "colab": {}
      },
      "source": [
        "# quick_train_test_graph(title='relu',activation_func='relu')\n",
        "# This case has ran in the case above with title '0.0005lr, 20epochs, 0.9momentum'"
      ],
      "execution_count": 0,
      "outputs": []
    },
    {
      "cell_type": "code",
      "metadata": {
        "id": "yBLxR0pSKg-l",
        "colab_type": "code",
        "colab": {}
      },
      "source": [
        "quick_train_test_graph(title='prelu',activation_func='prelu')"
      ],
      "execution_count": 0,
      "outputs": []
    },
    {
      "cell_type": "code",
      "metadata": {
        "id": "hUsBEr9WKhfT",
        "colab_type": "code",
        "colab": {}
      },
      "source": [
        "quick_train_test_graph(title='leakyrelu',activation_func='leakyrelu')"
      ],
      "execution_count": 0,
      "outputs": []
    },
    {
      "cell_type": "code",
      "metadata": {
        "id": "ptJDSq7vLE5T",
        "colab_type": "code",
        "colab": {}
      },
      "source": [
        "quick_train_test_graph(title='tanh',activation_func='tanh')"
      ],
      "execution_count": 0,
      "outputs": []
    },
    {
      "cell_type": "markdown",
      "metadata": {
        "id": "SzRUEYH0OIIV",
        "colab_type": "text"
      },
      "source": [
        "**Adding another Dense**"
      ]
    },
    {
      "cell_type": "code",
      "metadata": {
        "id": "Mr-J5PoJOHYj",
        "colab_type": "code",
        "colab": {}
      },
      "source": [
        "quick_train_test_graph(title='doubleDense',another_dense=True)\n",
        "# Due to it's long process time and low accuracy, we terminated this case."
      ],
      "execution_count": 0,
      "outputs": []
    }
  ]
}